{
 "cells": [
  {
   "cell_type": "markdown",
   "metadata": {},
   "source": [
    "# Plotly Density Heatmap\n",
    "\n",
    "This example reviews plotting density heatmap from a GeoDataFrame using plotly."
   ]
  },
  {
   "cell_type": "code",
   "execution_count": null,
   "metadata": {
    "ExecuteTime": {
     "end_time": "2020-04-19T15:37:36.798310Z",
     "start_time": "2020-04-19T15:37:36.794586Z"
    }
   },
   "outputs": [],
   "source": [
    "import mapped\n",
    "import geopandas as gpd\n",
    "import plotly\n",
    "from plotly.graph_objects import Figure\n",
    "mapped.__version__, gpd.__version__, plotly.__version__"
   ]
  },
  {
   "cell_type": "markdown",
   "metadata": {},
   "source": [
    "First load some example point data."
   ]
  },
  {
   "cell_type": "code",
   "execution_count": null,
   "metadata": {
    "ExecuteTime": {
     "end_time": "2020-04-19T00:02:42.803698Z",
     "start_time": "2020-04-19T00:02:42.775628Z"
    },
    "scrolled": true
   },
   "outputs": [],
   "source": [
    "from mapped.example_data import mad_points\n",
    "points = mad_points()\n",
    "points.head()"
   ]
  },
  {
   "cell_type": "markdown",
   "metadata": {},
   "source": [
    "The heatmap generates a \n",
    "[Mapbox Density Heatmap](https://plot.ly/python/mapbox-density-heatmaps/),\n",
    "not a plain heatmap."
   ]
  },
  {
   "cell_type": "code",
   "execution_count": null,
   "metadata": {
    "ExecuteTime": {
     "end_time": "2020-04-19T00:02:43.917385Z",
     "start_time": "2020-04-19T00:02:43.345025Z"
    }
   },
   "outputs": [],
   "source": [
    "points.plotly_heatmap(\n",
    "    'number', \n",
    "    radius=10, \n",
    "    mapbox_style='carto-positron', \n",
    ")"
   ]
  },
  {
   "cell_type": "raw",
   "metadata": {
    "raw_mimetype": "text/restructuredtext"
   },
   "source": [
    ".. currentmodule:: mapped\n",
    "\n",
    ".. automethod:: GeoDataFrame.plotly_heatmap"
   ]
  }
 ],
 "metadata": {
  "kernelspec": {
   "display_name": "Python 3",
   "language": "python",
   "name": "python3"
  },
  "language_info": {
   "codemirror_mode": {
    "name": "ipython",
    "version": 3
   },
   "file_extension": ".py",
   "mimetype": "text/x-python",
   "name": "python",
   "nbconvert_exporter": "python",
   "pygments_lexer": "ipython3",
   "version": "3.7.6"
  },
  "toc": {
   "base_numbering": 1,
   "nav_menu": {},
   "number_sections": true,
   "sideBar": true,
   "skip_h1_title": false,
   "title_cell": "Table of Contents",
   "title_sidebar": "Contents",
   "toc_cell": false,
   "toc_position": {},
   "toc_section_display": true,
   "toc_window_display": false
  }
 },
 "nbformat": 4,
 "nbformat_minor": 4
}
