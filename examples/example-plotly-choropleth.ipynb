{
 "cells": [
  {
   "cell_type": "markdown",
   "metadata": {},
   "source": [
    "# Plotly Choropleths\n",
    "\n",
    "This example reviews plotting a choropleth from a GeoDataFrame using plotly."
   ]
  },
  {
   "cell_type": "code",
   "execution_count": null,
   "metadata": {},
   "outputs": [],
   "source": [
    "import mapped\n",
    "import geopandas as gpd\n",
    "import plotly\n",
    "mapped.__version__, gpd.__version__, plotly.__version__"
   ]
  },
  {
   "cell_type": "markdown",
   "metadata": {},
   "source": [
    "First load some example polygon data."
   ]
  },
  {
   "cell_type": "code",
   "execution_count": null,
   "metadata": {},
   "outputs": [],
   "source": [
    "gdf = gpd.read_file(gpd.datasets.get_path('nybb'))\n",
    "\n",
    "gdf['Population'] = [\n",
    "    479_458, \n",
    "    2_358_582,\n",
    "    2_648_771,\n",
    "    1_664_727,\n",
    "    1_471_160,\n",
    "]\n",
    "\n",
    "gdf.set_index('BoroName', inplace=True)"
   ]
  },
  {
   "cell_type": "markdown",
   "metadata": {},
   "source": [
    "Importing `mapped` monkeypatches `geopandas` to add several tools to \n",
    "the `geopandas.GeoDataFrame` class, including `plotly_choropleth`."
   ]
  },
  {
   "cell_type": "code",
   "execution_count": null,
   "metadata": {},
   "outputs": [],
   "source": [
    "gdf.plotly_choropleth('Population')"
   ]
  },
  {
   "cell_type": "markdown",
   "metadata": {},
   "source": [
    "For another example, let's plot the same election results data as found in the [plotly express mapbox choropleth example](https://plotly.com/python/mapbox-county-choropleth/#indexing-by-geojson-properties).  We can load this example data as a GeoDataFrame from the mapped.example_data module."
   ]
  },
  {
   "cell_type": "code",
   "execution_count": null,
   "metadata": {},
   "outputs": [],
   "source": [
    "from mapped.example_data import election"
   ]
  },
  {
   "cell_type": "code",
   "execution_count": null,
   "metadata": {},
   "outputs": [],
   "source": [
    "election_data = election()\n",
    "election_data.head()"
   ]
  },
  {
   "cell_type": "markdown",
   "metadata": {},
   "source": [
    "The plotly express `choropleth_mapbox` function is great, but it requires a lot of arguments to be set to work properly."
   ]
  },
  {
   "cell_type": "code",
   "execution_count": null,
   "metadata": {},
   "outputs": [],
   "source": [
    "import plotly.express as px\n",
    "\n",
    "fig = px.choropleth_mapbox(\n",
    "    election_data, \n",
    "    geojson=election_data.__geo_interface__,\n",
    "    color=\"Bergeron\",\n",
    "    locations=\"district\", \n",
    "    featureidkey=\"properties.district\",\n",
    "    center={\"lat\": 45.5517, \"lon\": -73.7073},\n",
    "    zoom=9,\n",
    ")\n",
    "plotly.graph_objects.FigureWidget(fig)"
   ]
  },
  {
   "cell_type": "markdown",
   "metadata": {},
   "source": [
    "We can use the `mapped` interface to create substantially the same plot with just a single argument: the column to use to colorize the choropleth."
   ]
  },
  {
   "cell_type": "code",
   "execution_count": null,
   "metadata": {},
   "outputs": [],
   "source": [
    "election_data.plotly_choropleth(color=\"Bergeron\")"
   ]
  },
  {
   "cell_type": "raw",
   "metadata": {
    "raw_mimetype": "text/restructuredtext"
   },
   "source": [
    ".. currentmodule:: mapped\n",
    "\n",
    ".. automethod:: GeoDataFrame.plotly_choropleth"
   ]
  }
 ],
 "metadata": {
  "kernelspec": {
   "display_name": "Python 3",
   "language": "python",
   "name": "python3"
  },
  "language_info": {
   "codemirror_mode": {
    "name": "ipython",
    "version": 3
   },
   "file_extension": ".py",
   "mimetype": "text/x-python",
   "name": "python",
   "nbconvert_exporter": "python",
   "pygments_lexer": "ipython3",
   "version": "3.7.6"
  },
  "pycharm": {
   "stem_cell": {
    "cell_type": "raw",
    "metadata": {
     "collapsed": false
    },
    "source": []
   }
  },
  "toc": {
   "base_numbering": 1,
   "nav_menu": {},
   "number_sections": true,
   "sideBar": true,
   "skip_h1_title": false,
   "title_cell": "Table of Contents",
   "title_sidebar": "Contents",
   "toc_cell": false,
   "toc_position": {},
   "toc_section_display": true,
   "toc_window_display": false
  }
 },
 "nbformat": 4,
 "nbformat_minor": 4
}
