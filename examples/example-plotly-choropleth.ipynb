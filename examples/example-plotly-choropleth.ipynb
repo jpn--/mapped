{
 "cells": [
  {
   "cell_type": "markdown",
   "metadata": {},
   "source": [
    "# Plotly Choropleths\n",
    "\n",
    "This example reviews plotting a choropleth from a GeoDataFrame using plotly."
   ]
  },
  {
   "cell_type": "code",
   "execution_count": null,
   "metadata": {
    "ExecuteTime": {
     "end_time": "2020-04-19T15:37:36.798310Z",
     "start_time": "2020-04-19T15:37:36.794586Z"
    }
   },
   "outputs": [],
   "source": [
    "import mapped\n",
    "import geopandas as gpd\n",
    "import plotly\n",
    "mapped.__version__, gpd.__version__, plotly.__version__"
   ]
  },
  {
   "cell_type": "markdown",
   "metadata": {},
   "source": [
    "First load some example polygon data."
   ]
  },
  {
   "cell_type": "code",
   "execution_count": null,
   "metadata": {
    "ExecuteTime": {
     "end_time": "2020-04-19T15:38:04.997143Z",
     "start_time": "2020-04-19T15:38:04.934517Z"
    }
   },
   "outputs": [],
   "source": [
    "gdf = gpd.read_file(gpd.datasets.get_path('nybb'))\n",
    "\n",
    "gdf['Population'] = [\n",
    "    479_458, \n",
    "    2_358_582,\n",
    "    2_648_771,\n",
    "    1_664_727,\n",
    "    1_471_160,\n",
    "]\n",
    "\n",
    "gdf.set_index('BoroName', inplace=True)"
   ]
  },
  {
   "cell_type": "markdown",
   "metadata": {},
   "source": [
    "Importing `mapped` monkeypatches `geopandas` to add several tools to \n",
    "the `geopandas.GeoDataFrame` class, including `plotly_choropleth`."
   ]
  },
  {
   "cell_type": "code",
   "execution_count": null,
   "metadata": {
    "ExecuteTime": {
     "end_time": "2020-04-19T15:38:09.417000Z",
     "start_time": "2020-04-19T15:38:06.248286Z"
    },
    "scrolled": false
   },
   "outputs": [],
   "source": [
    "gdf.plotly_choropleth('Population')"
   ]
  },
  {
   "cell_type": "raw",
   "metadata": {
    "raw_mimetype": "text/restructuredtext"
   },
   "source": [
    ".. currentmodule:: mapped\n",
    "\n",
    ".. automethod:: GeoDataFrame.plotly_choropleth"
   ]
  }
 ],
 "metadata": {
  "kernelspec": {
   "display_name": "Python 3",
   "language": "python",
   "name": "python3"
  },
  "language_info": {
   "codemirror_mode": {
    "name": "ipython",
    "version": 3
   },
   "file_extension": ".py",
   "mimetype": "text/x-python",
   "name": "python",
   "nbconvert_exporter": "python",
   "pygments_lexer": "ipython3",
   "version": "3.7.6"
  },
  "toc": {
   "base_numbering": 1,
   "nav_menu": {},
   "number_sections": true,
   "sideBar": true,
   "skip_h1_title": false,
   "title_cell": "Table of Contents",
   "title_sidebar": "Contents",
   "toc_cell": false,
   "toc_position": {},
   "toc_section_display": true,
   "toc_window_display": false
  }
 },
 "nbformat": 4,
 "nbformat_minor": 4
}
