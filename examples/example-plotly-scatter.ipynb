{
 "cells": [
  {
   "cell_type": "markdown",
   "metadata": {},
   "source": [
    "# Plotly Scatter Plot\n",
    "\n",
    "This example reviews plotting a scatter plot from a GeoDataFrame using plotly."
   ]
  },
  {
   "cell_type": "code",
   "execution_count": 1,
   "metadata": {
    "ExecuteTime": {
     "end_time": "2020-04-19T16:48:10.494219Z",
     "start_time": "2020-04-19T16:48:09.076212Z"
    }
   },
   "outputs": [
    {
     "data": {
      "text/plain": [
       "('20.04.0', '0.7.0', '4.6.0')"
      ]
     },
     "execution_count": 1,
     "metadata": {},
     "output_type": "execute_result"
    }
   ],
   "source": [
    "import mapped\n",
    "import geopandas as gpd\n",
    "import plotly\n",
    "mapped.__version__, gpd.__version__, plotly.__version__"
   ]
  },
  {
   "cell_type": "markdown",
   "metadata": {},
   "source": [
    "First load some example point data."
   ]
  },
  {
   "cell_type": "code",
   "execution_count": 2,
   "metadata": {
    "ExecuteTime": {
     "end_time": "2020-04-19T16:48:10.521905Z",
     "start_time": "2020-04-19T16:48:10.496020Z"
    },
    "scrolled": true
   },
   "outputs": [
    {
     "data": {
      "text/html": [
       "<div>\n",
       "<style scoped>\n",
       "    .dataframe tbody tr th:only-of-type {\n",
       "        vertical-align: middle;\n",
       "    }\n",
       "\n",
       "    .dataframe tbody tr th {\n",
       "        vertical-align: top;\n",
       "    }\n",
       "\n",
       "    .dataframe thead th {\n",
       "        text-align: right;\n",
       "    }\n",
       "</style>\n",
       "<table border=\"1\" class=\"dataframe\">\n",
       "  <thead>\n",
       "    <tr style=\"text-align: right;\">\n",
       "      <th></th>\n",
       "      <th>number</th>\n",
       "      <th>letter</th>\n",
       "      <th>geometry</th>\n",
       "    </tr>\n",
       "  </thead>\n",
       "  <tbody>\n",
       "    <tr>\n",
       "      <th>1</th>\n",
       "      <td>73.522015</td>\n",
       "      <td>A</td>\n",
       "      <td>POINT (-9945192.638 5333669.463)</td>\n",
       "    </tr>\n",
       "    <tr>\n",
       "      <th>2</th>\n",
       "      <td>59.605820</td>\n",
       "      <td>A</td>\n",
       "      <td>POINT (-9952134.036 5321688.221)</td>\n",
       "    </tr>\n",
       "    <tr>\n",
       "      <th>3</th>\n",
       "      <td>52.676887</td>\n",
       "      <td>A</td>\n",
       "      <td>POINT (-9937860.167 5328515.553)</td>\n",
       "    </tr>\n",
       "    <tr>\n",
       "      <th>6</th>\n",
       "      <td>22.133990</td>\n",
       "      <td>B</td>\n",
       "      <td>POINT (-9948386.303 5310253.324)</td>\n",
       "    </tr>\n",
       "    <tr>\n",
       "      <th>7</th>\n",
       "      <td>34.937765</td>\n",
       "      <td>A</td>\n",
       "      <td>POINT (-9963868.554 5319452.429)</td>\n",
       "    </tr>\n",
       "  </tbody>\n",
       "</table>\n",
       "</div>"
      ],
      "text/plain": [
       "      number letter                          geometry\n",
       "1  73.522015      A  POINT (-9945192.638 5333669.463)\n",
       "2  59.605820      A  POINT (-9952134.036 5321688.221)\n",
       "3  52.676887      A  POINT (-9937860.167 5328515.553)\n",
       "6  22.133990      B  POINT (-9948386.303 5310253.324)\n",
       "7  34.937765      A  POINT (-9963868.554 5319452.429)"
      ]
     },
     "execution_count": 2,
     "metadata": {},
     "output_type": "execute_result"
    }
   ],
   "source": [
    "from mapped.example_data import mad_points\n",
    "points = mad_points()\n",
    "points.head()"
   ]
  },
  {
   "cell_type": "code",
   "execution_count": 3,
   "metadata": {
    "ExecuteTime": {
     "end_time": "2020-04-19T16:48:11.339287Z",
     "start_time": "2020-04-19T16:48:10.524207Z"
    }
   },
   "outputs": [
    {
     "data": {
      "application/vnd.jupyter.widget-view+json": {
       "model_id": "e380a93643c3498ab1bb1babc9d7dd19",
       "version_major": 2,
       "version_minor": 0
      },
      "text/plain": [
       "FigureWidget({\n",
       "    'data': [{'hovertemplate': ('<b>%{hovertext}</b><br><br>let' ... '}<br>lon=%{lon}<extra></e…"
      ]
     },
     "metadata": {},
     "output_type": "display_data"
    }
   ],
   "source": [
    "points.plotly_scatter(\n",
    "    color='letter', \n",
    "    size='number', \n",
    "    text='letter', \n",
    ")"
   ]
  },
  {
   "cell_type": "raw",
   "metadata": {
    "raw_mimetype": "text/restructuredtext"
   },
   "source": [
    ".. currentmodule:: mapped\n",
    "\n",
    ".. automethod:: GeoDataFrame.plotly_scatter"
   ]
  }
 ],
 "metadata": {
  "kernelspec": {
   "display_name": "Python 3",
   "language": "python",
   "name": "python3"
  },
  "language_info": {
   "codemirror_mode": {
    "name": "ipython",
    "version": 3
   },
   "file_extension": ".py",
   "mimetype": "text/x-python",
   "name": "python",
   "nbconvert_exporter": "python",
   "pygments_lexer": "ipython3",
   "version": "3.7.6"
  },
  "toc": {
   "base_numbering": 1,
   "nav_menu": {},
   "number_sections": true,
   "sideBar": true,
   "skip_h1_title": false,
   "title_cell": "Table of Contents",
   "title_sidebar": "Contents",
   "toc_cell": false,
   "toc_position": {},
   "toc_section_display": true,
   "toc_window_display": false
  },
  "widgets": {
   "application/vnd.jupyter.widget-state+json": {
    "state": {
     "e380a93643c3498ab1bb1babc9d7dd19": {
      "buffers": [
       {
        "data": "AAAAAAAA8D8AAAAAAAAAQAAAAAAAAAhAAAAAAAAAHEAAAAAAAAAiQAAAAAAAACZAAAAAAAAALEAAAAAAAAAuQAAAAAAAADJAAAAAAAAAM0AAAAAAAAA2QAAAAAAAADhAAAAAAAAAO0AAAAAAAAA8QAAAAAAAAD1AAAAAAAAAP0AAAAAAAABAQAAAAAAAAEFAAAAAAAAAQkAAAAAAAIBCQAAAAAAAgERAAAAAAAAARUAAAAAAAIBFQAAAAAAAgEZAAAAAAACAR0AAAAAAAABIQAAAAAAAAElAAAAAAACASUAAAAAAAIBKQAAAAAAAgEtAAAAAAAAATEAAAAAAAIBOQAAAAAAAAE9AAAAAAACAT0AAAAAAAABQQAAAAAAAQFBAAAAAAADAUEAAAAAAAABRQAAAAAAAgFFAAAAAAADAUUAAAAAAAABSQAAAAAAAwFJAAAAAAABAVEAAAAAAAIBUQAAAAAAAwFRAAAAAAAAAVUAAAAAAAEBVQAAAAAAAwFVAAAAAAAAAVkAAAAAAAIBWQAAAAAAAgFdAAAAAAABAWEAAAAAAAIBYQAAAAAAAwFhAAAAAAAAAWUAAAAAAAIBZQAAAAAAAwFlAAAAAAACAWkAAAAAAAABbQAAAAAAAQFtAAAAAAADAXEAAAAAAAEBdQAAAAAAAgF1AAAAAAAAAXkAAAAAAAMBeQAAAAAAAAF9AAAAAAABAX0AAAAAAAIBfQAAAAAAAAGBAAAAAAAAgYEAAAAAAAEBgQAAAAAAAgGBAAAAAAACgYEAAAAAAAOBgQAAAAAAAwGFAAAAAAAAgYkAAAAAAAGBiQAAAAAAAgGJAAAAAAACgYkAAAAAAAMBiQAAAAAAAQGNAAAAAAABgY0AAAAAAAIBjQAAAAAAAoGNAAAAAAADAY0AAAAAAAABkQAAAAAAAIGRAAAAAAABAZEAAAAAAAGBkQAAAAAAAgGRAAAAAAADAZEAAAAAAAOBkQAAAAAAAAGVAAAAAAAAgZUAAAAAAAEBlQAAAAAAAYGVAAAAAAACAZUAAAAAAAKBlQAAAAAAAwGVAAAAAAADgZUAAAAAAACBmQAAAAAAAQGZAAAAAAACAZkAAAAAAAKBmQAAAAAAAwGZAAAAAAADgZkAAAAAAACBnQAAAAAAAQGdAAAAAAACAZ0AAAAAAAMBnQAAAAAAA4GdAAAAAAAAAaEAAAAAAACBoQAAAAAAAYGhAAAAAAACAaEAAAAAAAKBoQAAAAAAAwGhAAAAAAADgaEAAAAAAAABpQAAAAAAAIGlAAAAAAABAaUAAAAAAAGBpQAAAAAAAoGlAAAAAAADAaUAAAAAAAOBpQAAAAAAAAGpAAAAAAAAgakAAAAAAAMBqQAAAAAAAgGtAAAAAAACga0AAAAAAAKBsQAAAAAAA4GxAAAAAAABAbUAAAAAAAOBtQAAAAAAAQG5AAAAAAACAbkAAAAAAAOBuQAAAAAAAQG9AAAAAAABgb0AAAAAAAIBvQAAAAAAAoG9AAAAAAADAb0AAAAAAAOBvQAAAAAAAAHBAAAAAAAAgcEAAAAAAADBwQAAAAAAAQHBAAAAAAABQcEAAAAAAAGBwQAAAAAAAcHBAAAAAAACAcEAAAAAAAJBwQAAAAAAAoHBAAAAAAACwcEAAAAAAAMBwQAAAAAAA0HBAAAAAAADgcEAAAAAAAPBwQAAAAAAAAHFAAAAAAAAQcUAAAAAAACBxQAAAAAAAMHFAAAAAAABAcUAAAAAAAFBxQAAAAAAAYHFAAAAAAABwcUAAAAAAAJBxQAAAAAAAoHFAAAAAAACwcUAAAAAAAMBxQAAAAAAA0HFAAAAAAADgcUAAAAAAAPBxQAAAAAAAAHJA",
        "encoding": "base64",
        "path": [
         "_data",
         0,
         "hovertext",
         "value"
        ]
       },
       {
        "data": "YM6pqzmSRUBD/ZyqKohFQByKL2bmjUVA6uPwyEmGRUCopmklbIFFQCFh3ehZgUVAr10vUtaHRUCWmigpHJRFQMqX7ARKfkVAMc+QQ6KKRUDFWY/lYoVFQOLepSpqf0VA7LrGgNaORUDYwBKmvIdFQGTCyl4Xj0VAeK040qiCRUApjHdARZFFQIJ2b2bQhUVAxAgUp3aSRUCO48Q3No5FQMF+CEqKhkVAxS3zfKKGRUBVuguKY4tFQA7DNEINj0VAEguEGSGBRUAsmfRVAItFQF8fAloZh0VAxQrNGOqERUAfxvCbgYpFQO0eZ+xaiUVAMJY/fJuXRUDuNbh2e4FFQO8KabwLlkVA6bWD6EOGRUDYlzb4n4ZFQLeWekDmiUVAPEvnGGGSRUCfBbjRqYdFQNdzoE39kEVANzJ3WJCKRUCIkeV7+41FQLisHHl9i0VAP8klIM+ERUDV89Ot3otFQE8T4mRdlEVAnIX+OjGFRUA+BeRD1oRFQGkY1/Q9jkVAditT1NORRUAttXasmYRFQMTuNuDVgEVA6iPhbraLRUBwaQwNY4pFQAKn09X2gkVAoxxfkbeMRUComQ92I4RFQJmr27FyjEVA1fJ6WDyNRUBRqpe8JohFQNFhKcL5iUVAaBOD+76KRUBVPMa9Io1FQBXhaAOTikVAfRC2o9mIRUD4baZexIVFQN7R8z/Ti0VAWhzz1sKORUB3o2DIao9FQIAG6rx0hUVATQoD8/CNRUDLuSWMKolFQIwuRz1dgkVAnu+bAVKBRUCPGHafSYFFQNzNbiFVfkVAq8TNUa+GRUDWLxReioVFQKy2expEi0VAjjlQdByNRUAEtDDfTIZFQA2DhHpZiEVATAIr9cuPRUApVi/rKY5FQGIWrI6giUVA4bmFGruHRUCYEL1irYlFQHITCBcbikVAlBzxzyiJRUA9c7HIu4lFQF19RdGviUVAPgQ5KVCJRUDLSqcAd4lFQAcTsDpqiUVAlhwFeViJRUAvVwuik4lFQOK1GKJciUVAghbCx5KJRUA8XJWmGolFQCr3WCNyiUVAX6cS4e2JRUDmwyNSOIlFQPJ2kaBsiUVAdrxtFfKJRUB3TjA2n4lFQPucMGFkiUVAhq5Is4KJRUAJp0hEpolFQL4xmhDIiUVAfIYeNo+JRUAUzvnbVYlFQI69O0FbiUVA2NQXzIyJRUDZK1o/C4pFQJw1QdKliUVA4WWq+AeKRUBYUIVmX4lFQLkHV/rkiUVA8StredyJRUBBbU7cVYlFQGwDUjiFiUVAFywwaq+JRUCRLGZYd4lFQBVKnF8viUVA1yAaZd+JRUBI9FjvSolFQKpC2UCKiUVAeEuPuYaJRUAdotZOF4hFQMLjZhoyiUVAuu/A2yiJRUAcJBQzc4hFQOjer4RaiUVAUMsmHtmIRUA6Jhjk7olFQKEmE3BOiEVAseFe6MeJRUBlmz7Bj4lFQDzF2o/qjEVAiDn1EwSKRUCYb9Tz8opFQFuRW44Fi0VAtDXrQNKLRUAA68oiGYxFQD8G0HB2i0VAWoezvWKMRUDZo0174otFQEAbt5OtiUVA8Cw5IO+KRUATeBH8zopFQGSwgfK6iUVAE+ghtRWMRUCx2E+2joxFQJlp36ati0VAbWE+kvKKRUBnz4r0r4pFQBbXPSYEjUVAkL+Uqc2MRUDgeY/3a4xFQHmmAFutiEVA+8VIEHuMRUCuk1VLOYxFQF71cmnei0VAYoruuTeNRUBk48WULoxFQCp1AwYni0VACv7mvECMRUB/NJ/62IxFQGWJY2dCjUVArFt60DeJRUA98O5BbYlFQEmonaPIi0VAEY/wKyuMRUC125Sny4xFQBiTBAIOjEVA",
        "encoding": "base64",
        "path": [
         "_data",
         0,
         "lat",
         "value"
        ]
       },
       {
        "data": "EgUeN7VVVsABRqDZsllWwDydtQV+UVbAZF2m73FgVsCPp5mLv1xWwPmVRlhVWFbAGGmabltbVsDgbFSrXFtWwDZPu5qxV1bAJrwcUKZeVsBZ+A57VF9WwLdw53wVV1bACb3yI/lTVsCsT8/Ub1xWwHAzIs0jV1bAyxkPS6VdVsBDJlU/9lRWwBqmKp0AV1bAitZKFc1YVsDiJGKdfmRWwBCNCmfzUVbAs0alPExcVsBtJBEQf1RWwCE5eBwzWFbAaswu2GlaVsAkovaDTFdWwPumh1ELX1bAZFLqnjBaVsDGPv5iGlBWwDrgFoVSYVbAn+26zF1YVsBlx0ZoSlJWwE0worD7VVbAyzxBIx9dVsAgOx8hMFhWwMLB6g6oX1bA59iuwMxcVsCyYdL+LlxWwC3+Yw+cV1bAJgyn4ulfVsAZ+Fl/dldWwMuTPWCBV1bAjI0+UWVTVsBht9V7R1RWwK9ynjPrVFbAQiWm3b9ZVsD8jvgZqlxWwCT5ZQZjV1bARpHNg5RYVsDaKzW6zlVWwOT/xZt4XFbAMWmS8dpXVsAXQzWMo1xWwPyxRCRgWFbAc5CcEgVXVsBeWvqj315WwDdFs+VOVlbAnI0aWFJUVsDHcQrqIlxWwHfOD+LVWlbAWQOWufFbVsA8l4jE705WwGyT7sDNYVbApFdhuzlcVsCoDjPQyVpWwEAc10GmUFbALl2EV1heVsBClm4CCU9WwH6IydTnUlbAyL0KZ6FWVsDvAuZy1VxWwBxsHi/IWVbANbf9Y0BRVsAo4hnUHVJWwAi9dGj8TlbAotRCsZRZVsDtIon3BVdWwIaVul6RVFbAcdaX2/VUVsDf7/78Y1xWwPndpsApVlbAXXJGxJ9ZVsC3wTtQ51RWwLOeTya7UlbAUoDmhI1VVsCsgGuNnlhWwPb5cfjNWFbAnf1Ls9dYVsAJ5UOTZ1hWwCNk4j2DWFbAuEh+pp9YVsAHyGAOcVhWwIko9VjOWFbAbhj+Lo5YVsD44H4tzlhWwOPHzeKWWFbAP7SS+7tYVsDO/qya7lhWwMQDDs3IWFbAaCAxeJNYVsCEVCeQpFhWwCgqe4mkWFbAk/mMq4hYVsAhK3o2qVhWwBlNK9J/WFbAyh6r95dYVsCV0NZOolhWwJoZnGRYWFbABgLcYXZYVsAMg6AVz1hWwOUfVp4RWVbAX2K66MpYVsAvSAjfkVhWwGU9GiDSWFbA4VTq+udYVsCMFF14ZlhWwPPlLlb8WFbATfQig6lYVsCiTrUv9lhWwACMYU6jWFbAWxRm5bpYVsBAR1/k2lhWwCaOY7V+WFbAUq68D/NYVsBLL0RcklhWwJm1JDZTWFbA2GpCemZYVsBSpr2RclpWwASvaA7hWlbAOY4WtnJcVsC0MASxeltWwBN55Z+SW1bAOL0c5nZbVsDGFqmJJ1lWwCZU7uabW1bAr6xujwtaVsCZytNuJlpWwO1hBE3tYFbARnUnIWZhVsDcayJdxGFWwP1O6y7mYVbAwA7fN+NhVsAiPHUonWFWwI387BfqYVbA8lDaX/BhVsCSF5o4VWFWwNG4ouNnYVbAcM7hcWVhVsB68ieeOmJWwIDvqlWUYVbAqMBUzelhVsDEta3ALWJWwHumL1MFYlbA6QFvZZRhVsC3QMgou2FWwGNzWmvMYVbA1yFBB/5hVsCtnvVIF2FWwJYfhingYVbAEhzs3qphVsDzqsXZzmFWwO8Jup6mYVbA+X170YFhVsB8+3CcvWFWwFHbjXe/YVbA62yrbb5hVsC2Gh7otWFWwGpVG0W9YVbAU14/HfNhVsBFurMxuGFWwHY1STUCYVbAG27CT6xhVsCDUxITX2JWwAQaIXlTYVbA",
        "encoding": "base64",
        "path": [
         "_data",
         0,
         "lon",
         "value"
        ]
       },
       {
        "data": "mFIysmhhUkBpJHqGi81NQOkRtT6kVkpAW++Isgh4QUAWmttIAWFRQIQAkp2ry0tAhbuDx+quQkAbWddf1uxSQNMhCsL3MjRA2O2CyzjkREDc7BaOEVc8QFrPB0qW5lBAj7WUkH+1SkDig/0/2CQ+QHBNIk7t00JALDfbUUSrVEBeAiOW7lVMQMaMcH7wekdAmFceAaNENkCXEbJU/nJMQAp/+z9G8VNAhWpBE3IkVUArAJi79ppLQAa8jmMy81RANmS25f8zNkD7Rt9bMQ1MQJD4YhsZ90VA0rdCMJg6UUDU1kYp6QJVQF7rW3wdDzNA4e5pDmMyVkD+ECPW5sBJQNYaChSppkxA5ILlpcn1REDkjuJmCcMsQGQkB3VraEJA4g0TSLq9JEAbQ5IRCFdCQJ9NUVTufkpAzrFOJ6nlVECeGFQ+ldpCQINy7zK2FkdAhV0r7svBRUDDV8fRAsxUQNUI59zpfkNAw09jhjk5TEB0uRnlYkpOQBxsk2ifik9AwGLBNS0+OECls5LXnOQ1QJZ7fxZ6FklAGCURMMx/UUAjcf/V3co6QJCb37cJdlRAaayuhEJpOkDz9I0LE9kpQI7NLiz34UdAdf/IjrMCUkCBGqygwflJQOXKZxhpoUZA3BNidRxsVUD+a/nU2ag/QDoFoimOwk5AACGUO9MPKEBcOAqUYVtPQNTRCBPaVShAaPSJaP3BO0CuDPZtaXw8QJmm5vdXJydAzIhkzSRUMkCgcewCkn9SQIeayMEeHE9AEkg1vfsNPUBKJeOdKnQ9QA+1ni/VuUBAcepb9zbXMEAdnnRSwj4oQGOywzbMgzhA2fE2eFhSTEARDYUsY9tFQFZGQO79wD5APrfQ3QwwREDdzyvGnpxMQLx5ToDxcT9Aj9i56Uj3TUAgFfSjPQVSQLGK0+F73FBAmnwMKarjTkDp2vdbCvxVQNaFebHUIlRAbAw1LEcvVUBKUfvo0l9RQK69Vr8NclVAOEb6I6F/VEALIRvsi8BQQBD5x/gKc0lA/a3ayaBfTkB0oR9mlepRQObQQEm01VJA6IgLjGIoTkD88Ubha9lUQBFUKtARWFZAymE6ef9uTEDYPLWoNnJOQCR0DgcpXklA4n2p3ZqkVUCYY1/W4UNSQAT+qqgpe05AUzCf3aIDU0DcNUR94CBNQKOc2XNMOElA9MGou9q8S0CMR5U3DIBVQNs7kKZgeVJAZJfKulKBUkDqKl5vfiZTQI3obqTmgUxAuTFMA+WkVUDvZoFzDbBQQA+xdqrVVFBAMg1H6G2wUUBJemI7d/BJQKr/+rVd4VNAztC53u2nSkAqtzbEEYhSQAiuK/wv6E1Ag90LxphkUEBsjt/j/VNAQFz/ZW+hfiZAtWDPdJV9NEBa8YNf0gIqQABOhsHU0T1A2zFhJSjbM0Dh+sEj+81AQES+5z+lWEdAY/W5GjcBSEBndcrREK0/QBxy+fRlCFNARtszIj5LUkAB9UUvHXZSQG3kXG74PlNAyImQNpM/UEBld6fFdnJRQHXo7uglG1BA0i9LXWW4U0AIIk7B7mROQEgfXt8ih1JAheVfXlGgU0Ct27HbRc5PQLC2C0v41lFAiQ6SNNOTU0A2kSbW5lZOQLv2VKyyfFJA29CeUpt8UED0cTIlOp9TQGZ7o1302lNANEE/Pqm4U0DYNbeD/l5RQP7HyCJqT1NAr9Jo8gU5U0DrltPXcphQQKIgxwUDJVNAtg3QUr1eTkAAWrq2OftRQFa1uUtpJlBAl/DZtqY0T0Cp1/TnP3tSQK2QZjoKs1BAubdgk7OfUkBILXfuT6dOQOaigFaSk1BA7SS2gYyyUUBl3akqIPRSQJIO9tEAmFBA",
        "encoding": "base64",
        "path": [
         "_data",
         0,
         "marker",
         "size",
         "value"
        ]
       },
       {
        "data": "AAAAAAAAGEAAAAAAAAAkQAAAAAAAADBAAAAAAAAAPkAAAAAAAIBBQAAAAAAAgENAAAAAAAAAR0AAAAAAAABNQAAAAAAAgE1AAAAAAAAATkAAAAAAAEBSQAAAAAAAAFNAAAAAAABAU0AAAAAAAIBTQAAAAAAAAFhAAAAAAABAWUAAAAAAAEBaQAAAAAAAQFxAAAAAAAAAXUAAAAAAAEBeQAAAAAAAgF5AAAAAAADAX0AAAAAAAABhQAAAAAAAYGFAAAAAAACgYUAAAAAAAOBiQAAAAAAAAGNAAAAAAAAgY0AAAAAAAKBkQAAAAAAAAGZAAAAAAABgZkAAAAAAAABnQAAAAAAAQGhAAAAAAACAaUAAAAAAAGBqQAAAAAAAgGpAAAAAAACgakAAAAAAAOBqQAAAAAAAAGtAAAAAAAAga0AAAAAAAEBrQAAAAAAAYGtAAAAAAADAa0AAAAAAAOBrQAAAAAAAAGxAAAAAAAAgbEAAAAAAAEBsQAAAAAAAYGxAAAAAAACAbEAAAAAAAMBsQAAAAAAAAG1AAAAAAAAgbUAAAAAAAGBtQAAAAAAAgG1AAAAAAACgbUAAAAAAAMBtQAAAAAAAAG5AAAAAAAAgbkAAAAAAAGBuQAAAAAAAwG5AAAAAAAAAb0AAAAAAACBvQAAAAAAAEHBAAAAAAACAcUAAAAAAABByQA==",
        "encoding": "base64",
        "path": [
         "_data",
         1,
         "hovertext",
         "value"
        ]
       },
       {
        "data": "RtQVAI5+RUAp9hzrNohFQOUH4MZzg0VAHRYgtXGIRUD3DW6pT5JFQPexsSIhfkVAYIGknKGHRUBDwZEp0YJFQCCYua7PjUVAmXFrIk2ERUA1+9e98oFFQGTACyHWikVAzBUu8mqFRUA2D3slOIxFQBdgPDxggkVAibTfDIqPRUC573reAZBFQIZ2LWtWg0VAbME958aFRUCkihp7do5FQIxl9ZaXh0VAsguxKryGRUATrQPGkIlFQM4itCBNh0VA7Wen2GuCRUCtk3U7AI1FQEzKcbYtikVAzTUa3x6GRUCLzNUIQIlFQCUOCQ92iUVAQ6hMKkWJRUAATFojSYlFQCkf0IFXiUVAddCqeKeJRUB1uVuk1olFQCCGSbIXikVAzYjN3KeJRUAJSx9a6YdFQC1hnwWtiUVAk7h6mUOJRUD2gBFYVYhFQOsy4VsuiUVAl1DSLaWJRUCQtk14nYhFQPZ7FeuJiEVA7aVK89OJRUDkUvYKiolFQPPcOI61iEVAVkeC2I2IRUCVlMc8PYlFQNQQlUETiUVAUi3lkbOJRUDhxSVQvodFQOnDlGgXikVA7PVjqA6JRUAsKX90aolFQN63cueaiEVAqjqay1iJRUAR0E5ChohFQI5h11iqiEVAlRRWRhiJRUBMBeXmVIhFQElZsYsKi0VAhDNGTh+MRUDg4XeF6olFQA==",
        "encoding": "base64",
        "path": [
         "_data",
         1,
         "lat",
         "value"
        ]
       },
       {
        "data": "tuBBQotXVsBNRcWWAVJWwOdT9zazWFbAXF5sts5aVsBggXjkAFdWwPNDVEU5WFbAd0xM7NBbVsBo69HKy1hWwOfkKZd3U1bAdecHJg9VVsAsjlidPF5WwEfbE2e3W1bAIizjC1BXVsCESqUIMlBWwPQrkIurV1bA/DFX1rxTVsDtNQkwDlZWwBceoRtZWFbARNsjyG5YVsD15sCJWlZWwFoUViYSXlbA8AbWzYNfVsAZ82cGYFNWwAoy4rVSWFbA3MfDI3ZRVsCmDwrSQVVWwGAn+Mq7WFbAIzBrX9tSVsD/6l02pFhWwEoJUSR3WFbAN0CJ25JYVsA0IWaEnlhWwIfy7lVyWFbANzBiWJ1YVsC7OpjFSFtWwDeMQD62WlbAaM4aE75bVsC1k73Y4VtWwArmBR9MW1bAuQbc1SlaVsCGxjEmFVpWwOe2URA3XFbAEKaytPVbVsCWWAnr41pWwDUNbCx0W1bAB7k7QCpbVsC43qB7wVtWwCbd5dt2W1bAl8d1hDFbVsDKj7wU3llWwEJKqWIyW1bAIlBDW7taVsB/JskLTVtWwFUwADsYXFbAk7VVeBJaVsD4ybqEwVpWwG24iPA0W1bAqQ+GLidcVsBuhYPqiVtWwKcpOE4TW1bAOdGJ7MlbVsATcl9xr1tWwNZ1ndxUYVbAwZrWZ95gVsBXurICMmFWwA==",
        "encoding": "base64",
        "path": [
         "_data",
         1,
         "lon",
         "value"
        ]
       },
       {
        "data": "5yaGMU0iNkCvRBcQfV0pQH7Iyeu82TJAQDuXCR+HOEBzkQk4F3JVQCuzR5dKdU1AAOCg0g+lUED2+V96F/kzQN6SVN+16lRAB1NHj97lU0CpeGcAzeBCQGMWVCLo9ztAvlGQC/sYR0CtdXt0wEQ1QMtE8tdzuy5AQvA/1khBOUA8guEFbYMuQAL4V1vjjThA34tc+a/uQ0AG3GVUAX42QELgqh7H0VBA0gyHgy7gT0DcC4K2AfJQQC3YuMoo40RAQ10QEBRmOkCjzEaqelpUQOPYD6BP2VJAhuitrTWsQkC+HEkkYc1LQKzVHMuAyUtA4i5gUcTBUUCEogmz4lpLQJBM6pkoPVVAeoXl715TTECE25OvFjo4QPHHTdmDYUNAZlENwIbiNUAQtvuQwQo9QJqd4hH/RUJAnGbWeZG8R0BomjXmxKZDQIJ8WU79mDJAOJSai8zmQEDYzXZeMx0oQNWzxlXK2j1AfP3i29XvQECc3R1OqF43QAqDLwsSa0RAUp9x2SGHLEAYMAiRU5BDQDDn/smexEJAcGRMx6FkO0ASxTHKzWFFQEh/gWEC/URA3lPrjtjkQkCRuQYmxOI0QP+ukmlfcDhAewUT0plTK0BIb+apC/IuQJD7bt3CZzFAA1/lkHt1RkB47ZjN/aRDQF1BiA038FNAETPbDADFTkAWOhMWJCFSQA==",
        "encoding": "base64",
        "path": [
         "_data",
         1,
         "marker",
         "size",
         "value"
        ]
       }
      ],
      "model_module": "plotlywidget",
      "model_module_version": "4.6.0",
      "model_name": "FigureModel",
      "state": {
       "_config": {
        "plotlyServerURL": "https://plot.ly"
       },
       "_data": [
        {
         "hovertemplate": "<b>%{hovertext}</b><br><br>letter=%{text}<br>size=%{marker.size}<br>lat=%{lat}<br>lon=%{lon}<extra></extra>",
         "hovertext": {
          "dtype": "float64",
          "shape": [
           174
          ]
         },
         "lat": {
          "dtype": "float64",
          "shape": [
           174
          ]
         },
         "legendgroup": "A",
         "lon": {
          "dtype": "float64",
          "shape": [
           174
          ]
         },
         "marker": {
          "color": "#636efa",
          "size": {
           "dtype": "float64",
           "shape": [
            174
           ]
          },
          "sizemode": "area",
          "sizeref": 0.22344021807035522
         },
         "mode": "markers+text",
         "name": "A",
         "showlegend": true,
         "subplot": "mapbox",
         "text": [
          "A",
          "A",
          "A",
          "A",
          "A",
          "A",
          "A",
          "A",
          "A",
          "A",
          "A",
          "A",
          "A",
          "A",
          "A",
          "A",
          "A",
          "A",
          "A",
          "A",
          "A",
          "A",
          "A",
          "A",
          "A",
          "A",
          "A",
          "A",
          "A",
          "A",
          "A",
          "A",
          "A",
          "A",
          "A",
          "A",
          "A",
          "A",
          "A",
          "A",
          "A",
          "A",
          "A",
          "A",
          "A",
          "A",
          "A",
          "A",
          "A",
          "A",
          "A",
          "A",
          "A",
          "A",
          "A",
          "A",
          "A",
          "A",
          "A",
          "A",
          "A",
          "A",
          "A",
          "A",
          "A",
          "A",
          "A",
          "A",
          "A",
          "A",
          "A",
          "A",
          "A",
          "A",
          "A",
          "A",
          "A",
          "A",
          "A",
          "A",
          "A",
          "A",
          "A",
          "A",
          "A",
          "A",
          "A",
          "A",
          "A",
          "A",
          "A",
          "A",
          "A",
          "A",
          "A",
          "A",
          "A",
          "A",
          "A",
          "A",
          "A",
          "A",
          "A",
          "A",
          "A",
          "A",
          "A",
          "A",
          "A",
          "A",
          "A",
          "A",
          "A",
          "A",
          "A",
          "A",
          "A",
          "A",
          "A",
          "A",
          "A",
          "A",
          "A",
          "A",
          "A",
          "A",
          "A",
          "A",
          "A",
          "A",
          "A",
          "A",
          "A",
          "A",
          "A",
          "A",
          "A",
          "A",
          "A",
          "A",
          "A",
          "A",
          "A",
          "A",
          "A",
          "A",
          "A",
          "A",
          "A",
          "A",
          "A",
          "A",
          "A",
          "A",
          "A",
          "A",
          "A",
          "A",
          "A",
          "A",
          "A",
          "A",
          "A",
          "A",
          "A",
          "A",
          "A",
          "A",
          "A",
          "A",
          "A",
          "A",
          "A",
          "A"
         ],
         "type": "scattermapbox",
         "uid": "9351b5df-1292-4798-ab55-57a20e6013d3"
        },
        {
         "hovertemplate": "<b>%{hovertext}</b><br><br>letter=%{text}<br>size=%{marker.size}<br>lat=%{lat}<br>lon=%{lon}<extra></extra>",
         "hovertext": {
          "dtype": "float64",
          "shape": [
           65
          ]
         },
         "lat": {
          "dtype": "float64",
          "shape": [
           65
          ]
         },
         "legendgroup": "B",
         "lon": {
          "dtype": "float64",
          "shape": [
           65
          ]
         },
         "marker": {
          "color": "#EF553B",
          "size": {
           "dtype": "float64",
           "shape": [
            65
           ]
          },
          "sizemode": "area",
          "sizeref": 0.22344021807035522
         },
         "mode": "markers+text",
         "name": "B",
         "showlegend": true,
         "subplot": "mapbox",
         "text": [
          "B",
          "B",
          "B",
          "B",
          "B",
          "B",
          "B",
          "B",
          "B",
          "B",
          "B",
          "B",
          "B",
          "B",
          "B",
          "B",
          "B",
          "B",
          "B",
          "B",
          "B",
          "B",
          "B",
          "B",
          "B",
          "B",
          "B",
          "B",
          "B",
          "B",
          "B",
          "B",
          "B",
          "B",
          "B",
          "B",
          "B",
          "B",
          "B",
          "B",
          "B",
          "B",
          "B",
          "B",
          "B",
          "B",
          "B",
          "B",
          "B",
          "B",
          "B",
          "B",
          "B",
          "B",
          "B",
          "B",
          "B",
          "B",
          "B",
          "B",
          "B",
          "B",
          "B",
          "B",
          "B"
         ],
         "type": "scattermapbox",
         "uid": "3f68e148-f0e2-4db5-abf3-ba7059bb88a5"
        }
       ],
       "_js2py_restyle": {},
       "_js2py_update": {},
       "_last_layout_edit_id": 3,
       "_last_trace_edit_id": 1,
       "_layout": {
        "legend": {
         "itemsizing": "constant",
         "title": {
          "text": "letter"
         },
         "tracegroupgap": 0
        },
        "mapbox": {
         "_derived": {
          "coordinates": [
           [
            -89.63715462466897,
            43.187924964836895
           ],
           [
            -88.71476171819637,
            43.187924964836895
           ],
           [
            -88.71476171819637,
            42.76732021263848
           ],
           [
            -89.63715462466897,
            42.76732021263848
           ]
          ]
         },
         "accesstoken": "pk.eyJ1IjoianBuIiwiYSI6ImNpdmIyMjNreTAwd3Myb3BkbXI0c283NDcifQ.pZzG5nR1CmtWCQV0ItKG-g",
         "bearing": 0,
         "center": {
          "lat": 43.08304352188421,
          "lon": -89.40655639805067
         },
         "domain": {
          "x": [
           0,
           1
          ],
          "y": [
           0,
           1
          ]
         },
         "pitch": 0,
         "style": "light",
         "zoom": 10.10425479990647
        },
        "margin": {
         "b": 0,
         "l": 0,
         "r": 0,
         "t": 0
        },
        "template": {
         "data": {
          "bar": [
           {
            "error_x": {
             "color": "#2a3f5f"
            },
            "error_y": {
             "color": "#2a3f5f"
            },
            "marker": {
             "line": {
              "color": "#E5ECF6",
              "width": 0.5
             }
            },
            "type": "bar"
           }
          ],
          "barpolar": [
           {
            "marker": {
             "line": {
              "color": "#E5ECF6",
              "width": 0.5
             }
            },
            "type": "barpolar"
           }
          ],
          "carpet": [
           {
            "aaxis": {
             "endlinecolor": "#2a3f5f",
             "gridcolor": "white",
             "linecolor": "white",
             "minorgridcolor": "white",
             "startlinecolor": "#2a3f5f"
            },
            "baxis": {
             "endlinecolor": "#2a3f5f",
             "gridcolor": "white",
             "linecolor": "white",
             "minorgridcolor": "white",
             "startlinecolor": "#2a3f5f"
            },
            "type": "carpet"
           }
          ],
          "choropleth": [
           {
            "colorbar": {
             "outlinewidth": 0,
             "ticks": ""
            },
            "type": "choropleth"
           }
          ],
          "contour": [
           {
            "colorbar": {
             "outlinewidth": 0,
             "ticks": ""
            },
            "colorscale": [
             [
              0,
              "#0d0887"
             ],
             [
              0.1111111111111111,
              "#46039f"
             ],
             [
              0.2222222222222222,
              "#7201a8"
             ],
             [
              0.3333333333333333,
              "#9c179e"
             ],
             [
              0.4444444444444444,
              "#bd3786"
             ],
             [
              0.5555555555555556,
              "#d8576b"
             ],
             [
              0.6666666666666666,
              "#ed7953"
             ],
             [
              0.7777777777777778,
              "#fb9f3a"
             ],
             [
              0.8888888888888888,
              "#fdca26"
             ],
             [
              1,
              "#f0f921"
             ]
            ],
            "type": "contour"
           }
          ],
          "contourcarpet": [
           {
            "colorbar": {
             "outlinewidth": 0,
             "ticks": ""
            },
            "type": "contourcarpet"
           }
          ],
          "heatmap": [
           {
            "colorbar": {
             "outlinewidth": 0,
             "ticks": ""
            },
            "colorscale": [
             [
              0,
              "#0d0887"
             ],
             [
              0.1111111111111111,
              "#46039f"
             ],
             [
              0.2222222222222222,
              "#7201a8"
             ],
             [
              0.3333333333333333,
              "#9c179e"
             ],
             [
              0.4444444444444444,
              "#bd3786"
             ],
             [
              0.5555555555555556,
              "#d8576b"
             ],
             [
              0.6666666666666666,
              "#ed7953"
             ],
             [
              0.7777777777777778,
              "#fb9f3a"
             ],
             [
              0.8888888888888888,
              "#fdca26"
             ],
             [
              1,
              "#f0f921"
             ]
            ],
            "type": "heatmap"
           }
          ],
          "heatmapgl": [
           {
            "colorbar": {
             "outlinewidth": 0,
             "ticks": ""
            },
            "colorscale": [
             [
              0,
              "#0d0887"
             ],
             [
              0.1111111111111111,
              "#46039f"
             ],
             [
              0.2222222222222222,
              "#7201a8"
             ],
             [
              0.3333333333333333,
              "#9c179e"
             ],
             [
              0.4444444444444444,
              "#bd3786"
             ],
             [
              0.5555555555555556,
              "#d8576b"
             ],
             [
              0.6666666666666666,
              "#ed7953"
             ],
             [
              0.7777777777777778,
              "#fb9f3a"
             ],
             [
              0.8888888888888888,
              "#fdca26"
             ],
             [
              1,
              "#f0f921"
             ]
            ],
            "type": "heatmapgl"
           }
          ],
          "histogram": [
           {
            "marker": {
             "colorbar": {
              "outlinewidth": 0,
              "ticks": ""
             }
            },
            "type": "histogram"
           }
          ],
          "histogram2d": [
           {
            "colorbar": {
             "outlinewidth": 0,
             "ticks": ""
            },
            "colorscale": [
             [
              0,
              "#0d0887"
             ],
             [
              0.1111111111111111,
              "#46039f"
             ],
             [
              0.2222222222222222,
              "#7201a8"
             ],
             [
              0.3333333333333333,
              "#9c179e"
             ],
             [
              0.4444444444444444,
              "#bd3786"
             ],
             [
              0.5555555555555556,
              "#d8576b"
             ],
             [
              0.6666666666666666,
              "#ed7953"
             ],
             [
              0.7777777777777778,
              "#fb9f3a"
             ],
             [
              0.8888888888888888,
              "#fdca26"
             ],
             [
              1,
              "#f0f921"
             ]
            ],
            "type": "histogram2d"
           }
          ],
          "histogram2dcontour": [
           {
            "colorbar": {
             "outlinewidth": 0,
             "ticks": ""
            },
            "colorscale": [
             [
              0,
              "#0d0887"
             ],
             [
              0.1111111111111111,
              "#46039f"
             ],
             [
              0.2222222222222222,
              "#7201a8"
             ],
             [
              0.3333333333333333,
              "#9c179e"
             ],
             [
              0.4444444444444444,
              "#bd3786"
             ],
             [
              0.5555555555555556,
              "#d8576b"
             ],
             [
              0.6666666666666666,
              "#ed7953"
             ],
             [
              0.7777777777777778,
              "#fb9f3a"
             ],
             [
              0.8888888888888888,
              "#fdca26"
             ],
             [
              1,
              "#f0f921"
             ]
            ],
            "type": "histogram2dcontour"
           }
          ],
          "mesh3d": [
           {
            "colorbar": {
             "outlinewidth": 0,
             "ticks": ""
            },
            "type": "mesh3d"
           }
          ],
          "parcoords": [
           {
            "line": {
             "colorbar": {
              "outlinewidth": 0,
              "ticks": ""
             }
            },
            "type": "parcoords"
           }
          ],
          "pie": [
           {
            "automargin": true,
            "type": "pie"
           }
          ],
          "scatter": [
           {
            "marker": {
             "colorbar": {
              "outlinewidth": 0,
              "ticks": ""
             }
            },
            "type": "scatter"
           }
          ],
          "scatter3d": [
           {
            "line": {
             "colorbar": {
              "outlinewidth": 0,
              "ticks": ""
             }
            },
            "marker": {
             "colorbar": {
              "outlinewidth": 0,
              "ticks": ""
             }
            },
            "type": "scatter3d"
           }
          ],
          "scattercarpet": [
           {
            "marker": {
             "colorbar": {
              "outlinewidth": 0,
              "ticks": ""
             }
            },
            "type": "scattercarpet"
           }
          ],
          "scattergeo": [
           {
            "marker": {
             "colorbar": {
              "outlinewidth": 0,
              "ticks": ""
             }
            },
            "type": "scattergeo"
           }
          ],
          "scattergl": [
           {
            "marker": {
             "colorbar": {
              "outlinewidth": 0,
              "ticks": ""
             }
            },
            "type": "scattergl"
           }
          ],
          "scattermapbox": [
           {
            "marker": {
             "colorbar": {
              "outlinewidth": 0,
              "ticks": ""
             }
            },
            "type": "scattermapbox"
           }
          ],
          "scatterpolar": [
           {
            "marker": {
             "colorbar": {
              "outlinewidth": 0,
              "ticks": ""
             }
            },
            "type": "scatterpolar"
           }
          ],
          "scatterpolargl": [
           {
            "marker": {
             "colorbar": {
              "outlinewidth": 0,
              "ticks": ""
             }
            },
            "type": "scatterpolargl"
           }
          ],
          "scatterternary": [
           {
            "marker": {
             "colorbar": {
              "outlinewidth": 0,
              "ticks": ""
             }
            },
            "type": "scatterternary"
           }
          ],
          "surface": [
           {
            "colorbar": {
             "outlinewidth": 0,
             "ticks": ""
            },
            "colorscale": [
             [
              0,
              "#0d0887"
             ],
             [
              0.1111111111111111,
              "#46039f"
             ],
             [
              0.2222222222222222,
              "#7201a8"
             ],
             [
              0.3333333333333333,
              "#9c179e"
             ],
             [
              0.4444444444444444,
              "#bd3786"
             ],
             [
              0.5555555555555556,
              "#d8576b"
             ],
             [
              0.6666666666666666,
              "#ed7953"
             ],
             [
              0.7777777777777778,
              "#fb9f3a"
             ],
             [
              0.8888888888888888,
              "#fdca26"
             ],
             [
              1,
              "#f0f921"
             ]
            ],
            "type": "surface"
           }
          ],
          "table": [
           {
            "cells": {
             "fill": {
              "color": "#EBF0F8"
             },
             "line": {
              "color": "white"
             }
            },
            "header": {
             "fill": {
              "color": "#C8D4E3"
             },
             "line": {
              "color": "white"
             }
            },
            "type": "table"
           }
          ]
         },
         "layout": {
          "annotationdefaults": {
           "arrowcolor": "#2a3f5f",
           "arrowhead": 0,
           "arrowwidth": 1
          },
          "coloraxis": {
           "colorbar": {
            "outlinewidth": 0,
            "ticks": ""
           }
          },
          "colorscale": {
           "diverging": [
            [
             0,
             "#8e0152"
            ],
            [
             0.1,
             "#c51b7d"
            ],
            [
             0.2,
             "#de77ae"
            ],
            [
             0.3,
             "#f1b6da"
            ],
            [
             0.4,
             "#fde0ef"
            ],
            [
             0.5,
             "#f7f7f7"
            ],
            [
             0.6,
             "#e6f5d0"
            ],
            [
             0.7,
             "#b8e186"
            ],
            [
             0.8,
             "#7fbc41"
            ],
            [
             0.9,
             "#4d9221"
            ],
            [
             1,
             "#276419"
            ]
           ],
           "sequential": [
            [
             0,
             "#0d0887"
            ],
            [
             0.1111111111111111,
             "#46039f"
            ],
            [
             0.2222222222222222,
             "#7201a8"
            ],
            [
             0.3333333333333333,
             "#9c179e"
            ],
            [
             0.4444444444444444,
             "#bd3786"
            ],
            [
             0.5555555555555556,
             "#d8576b"
            ],
            [
             0.6666666666666666,
             "#ed7953"
            ],
            [
             0.7777777777777778,
             "#fb9f3a"
            ],
            [
             0.8888888888888888,
             "#fdca26"
            ],
            [
             1,
             "#f0f921"
            ]
           ],
           "sequentialminus": [
            [
             0,
             "#0d0887"
            ],
            [
             0.1111111111111111,
             "#46039f"
            ],
            [
             0.2222222222222222,
             "#7201a8"
            ],
            [
             0.3333333333333333,
             "#9c179e"
            ],
            [
             0.4444444444444444,
             "#bd3786"
            ],
            [
             0.5555555555555556,
             "#d8576b"
            ],
            [
             0.6666666666666666,
             "#ed7953"
            ],
            [
             0.7777777777777778,
             "#fb9f3a"
            ],
            [
             0.8888888888888888,
             "#fdca26"
            ],
            [
             1,
             "#f0f921"
            ]
           ]
          },
          "colorway": [
           "#636efa",
           "#EF553B",
           "#00cc96",
           "#ab63fa",
           "#FFA15A",
           "#19d3f3",
           "#FF6692",
           "#B6E880",
           "#FF97FF",
           "#FECB52"
          ],
          "font": {
           "color": "#2a3f5f"
          },
          "geo": {
           "bgcolor": "white",
           "lakecolor": "white",
           "landcolor": "#E5ECF6",
           "showlakes": true,
           "showland": true,
           "subunitcolor": "white"
          },
          "hoverlabel": {
           "align": "left"
          },
          "hovermode": "closest",
          "mapbox": {
           "style": "light"
          },
          "paper_bgcolor": "white",
          "plot_bgcolor": "#E5ECF6",
          "polar": {
           "angularaxis": {
            "gridcolor": "white",
            "linecolor": "white",
            "ticks": ""
           },
           "bgcolor": "#E5ECF6",
           "radialaxis": {
            "gridcolor": "white",
            "linecolor": "white",
            "ticks": ""
           }
          },
          "scene": {
           "xaxis": {
            "backgroundcolor": "#E5ECF6",
            "gridcolor": "white",
            "gridwidth": 2,
            "linecolor": "white",
            "showbackground": true,
            "ticks": "",
            "zerolinecolor": "white"
           },
           "yaxis": {
            "backgroundcolor": "#E5ECF6",
            "gridcolor": "white",
            "gridwidth": 2,
            "linecolor": "white",
            "showbackground": true,
            "ticks": "",
            "zerolinecolor": "white"
           },
           "zaxis": {
            "backgroundcolor": "#E5ECF6",
            "gridcolor": "white",
            "gridwidth": 2,
            "linecolor": "white",
            "showbackground": true,
            "ticks": "",
            "zerolinecolor": "white"
           }
          },
          "shapedefaults": {
           "line": {
            "color": "#2a3f5f"
           }
          },
          "ternary": {
           "aaxis": {
            "gridcolor": "white",
            "linecolor": "white",
            "ticks": ""
           },
           "baxis": {
            "gridcolor": "white",
            "linecolor": "white",
            "ticks": ""
           },
           "bgcolor": "#E5ECF6",
           "caxis": {
            "gridcolor": "white",
            "linecolor": "white",
            "ticks": ""
           }
          },
          "title": {
           "x": 0.05
          },
          "xaxis": {
           "automargin": true,
           "gridcolor": "white",
           "linecolor": "white",
           "ticks": "",
           "title": {
            "standoff": 15
           },
           "zerolinecolor": "white",
           "zerolinewidth": 2
          },
          "yaxis": {
           "automargin": true,
           "gridcolor": "white",
           "linecolor": "white",
           "ticks": "",
           "title": {
            "standoff": 15
           },
           "zerolinecolor": "white",
           "zerolinewidth": 2
          }
         }
        }
       },
       "_model_module_version": "4.6.0",
       "_py2js_addTraces": {},
       "_py2js_animate": {},
       "_py2js_deleteTraces": {},
       "_py2js_moveTraces": {},
       "_py2js_removeLayoutProps": {},
       "_py2js_removeTraceProps": {},
       "_py2js_restyle": {},
       "_view_count": 1,
       "_view_module_version": "4.6.0"
      }
     }
    },
    "version_major": 2,
    "version_minor": 0
   }
  }
 },
 "nbformat": 4,
 "nbformat_minor": 4
}
